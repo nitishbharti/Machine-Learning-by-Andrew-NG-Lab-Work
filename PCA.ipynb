{
 "cells": [
  {
   "cell_type": "code",
   "execution_count": 1,
   "metadata": {},
   "outputs": [],
   "source": [
    "import pandas as pd\n",
    "import numpy as np\n",
    "import matplotlib as mpl\n",
    "import matplotlib.pyplot as plt\n",
    "\n",
    "from scipy.io import loadmat\n",
    "from sklearn.preprocessing import StandardScaler\n",
    "from scipy import linalg\n",
    "\n",
    "pd.set_option('display.notebook_repr_html', False)\n",
    "pd.set_option('display.max_columns', None)\n",
    "pd.set_option('display.max_rows', 150)\n",
    "pd.set_option('display.max_seq_items', None)\n",
    " \n",
    "#%config InlineBackend.figure_formats = {'pdf',}\n",
    "%matplotlib inline\n",
    "\n",
    "import seaborn as sns\n",
    "sns.set_context('notebook')\n",
    "sns.set_style('white')"
   ]
  },
  {
   "cell_type": "code",
   "execution_count": 2,
   "metadata": {},
   "outputs": [
    {
     "data": {
      "text/plain": [
       "['X', '__version__', '__header__', '__globals__']"
      ]
     },
     "execution_count": 2,
     "metadata": {},
     "output_type": "execute_result"
    }
   ],
   "source": [
    "data = loadmat('data/ex7data1.mat')\n",
    "data.keys()"
   ]
  },
  {
   "cell_type": "code",
   "execution_count": 5,
   "metadata": {},
   "outputs": [
    {
     "data": {
      "text/plain": [
       "array([[3.38156267, 3.38911268],\n",
       "       [4.52787538, 5.8541781 ],\n",
       "       [2.65568187, 4.41199472],\n",
       "       [2.76523467, 3.71541365],\n",
       "       [2.84656011, 4.17550645],\n",
       "       [3.89067196, 6.48838087],\n",
       "       [3.47580524, 3.63284876],\n",
       "       [5.91129845, 6.68076853],\n",
       "       [3.92889397, 5.09844661],\n",
       "       [4.56183537, 5.62329929],\n",
       "       [4.57407171, 5.39765069],\n",
       "       [4.37173356, 5.46116549],\n",
       "       [4.19169388, 4.95469359],\n",
       "       [5.24408518, 4.66148767],\n",
       "       [2.8358402 , 3.76801716],\n",
       "       [5.63526969, 6.31211438],\n",
       "       [4.68632968, 5.6652411 ],\n",
       "       [2.85051337, 4.62645627],\n",
       "       [5.1101573 , 7.36319662],\n",
       "       [5.18256377, 4.64650909],\n",
       "       [5.70732809, 6.68103995],\n",
       "       [3.57968458, 4.80278074],\n",
       "       [5.63937773, 6.12043594],\n",
       "       [4.26346851, 4.68942896],\n",
       "       [2.53651693, 3.88449078],\n",
       "       [3.22382902, 4.94255585],\n",
       "       [4.92948801, 5.95501971],\n",
       "       [5.79295774, 5.10839305],\n",
       "       [2.81684824, 4.81895769],\n",
       "       [3.88882414, 5.10036564],\n",
       "       [3.34323419, 5.89301345],\n",
       "       [5.87973414, 5.52141664],\n",
       "       [3.10391912, 3.85710242],\n",
       "       [5.33150572, 4.68074235],\n",
       "       [3.37542687, 4.56537852],\n",
       "       [4.77667888, 6.25435039],\n",
       "       [2.6757463 , 3.73096988],\n",
       "       [5.50027665, 5.67948113],\n",
       "       [1.79709714, 3.24753885],\n",
       "       [4.3225147 , 5.11110472],\n",
       "       [4.42100445, 6.02563978],\n",
       "       [3.17929886, 4.43686032],\n",
       "       [3.03354125, 3.97879278],\n",
       "       [4.6093482 , 5.879792  ],\n",
       "       [2.96378859, 3.30024835],\n",
       "       [3.97176248, 5.40773735],\n",
       "       [1.18023321, 2.87869409],\n",
       "       [1.91895045, 5.07107848],\n",
       "       [3.95524687, 4.5053271 ],\n",
       "       [5.11795499, 6.08507386]])"
      ]
     },
     "execution_count": 5,
     "metadata": {},
     "output_type": "execute_result"
    }
   ],
   "source": [
    "data['X']"
   ]
  },
  {
   "cell_type": "code",
   "execution_count": 6,
   "metadata": {},
   "outputs": [
    {
     "data": {
      "text/plain": [
       "StandardScaler(copy=True, with_mean=True, with_std=True)"
      ]
     },
     "execution_count": 6,
     "metadata": {},
     "output_type": "execute_result"
    }
   ],
   "source": [
    "scaler = StandardScaler()\n",
    "scaler.fit(data['X'])"
   ]
  },
  {
   "cell_type": "code",
   "execution_count": 28,
   "metadata": {},
   "outputs": [
    {
     "data": {
      "text/plain": [
       "array([3.98926528, 5.00280585])"
      ]
     },
     "execution_count": 28,
     "metadata": {},
     "output_type": "execute_result"
    }
   ],
   "source": [
    "scaler.mean_"
   ]
  },
  {
   "cell_type": "code",
   "execution_count": 11,
   "metadata": {},
   "outputs": [],
   "source": [
    "U, S, V = linalg.svd(scaler.transform(data['X']).T)"
   ]
  },
  {
   "cell_type": "code",
   "execution_count": 16,
   "metadata": {},
   "outputs": [
    {
     "name": "stdout",
     "output_type": "stream",
     "text": [
      "U: [[-0.70710678 -0.70710678]\n",
      " [-0.70710678  0.70710678]]\n",
      "\n",
      "S: [9.3153915  3.63641048]\n"
     ]
    }
   ],
   "source": [
    "print 'U:', U\n",
    "print ''\n",
    "print 'S:',S"
   ]
  },
  {
   "cell_type": "markdown",
   "metadata": {},
   "source": [
    "# Vector Field Plot"
   ]
  },
  {
   "cell_type": "code",
   "execution_count": 41,
   "metadata": {},
   "outputs": [
    {
     "data": {
      "text/plain": [
       "<matplotlib.quiver.Quiver at 0x7f245059e3d0>"
      ]
     },
     "execution_count": 41,
     "metadata": {},
     "output_type": "execute_result"
    },
    {
     "data": {
      "image/png": "[encoded data removed]",
      "text/plain": [
       "<Figure size 432x288 with 1 Axes>"
      ]
     },
     "metadata": {},
     "output_type": "display_data"
    }
   ],
   "source": [
    "plt.quiver(10,200,15,5)"
   ]
  },
  {
   "cell_type": "code",
   "execution_count": 38,
   "metadata": {},
   "outputs": [
    {
     "data": {
      "text/plain": [
       "<matplotlib.quiver.Quiver at 0x7f2450790390>"
      ]
     },
     "execution_count": 38,
     "metadata": {},
     "output_type": "execute_result"
    },
    {
     "data": {
      "image/png": "[encoded data removed]",
      "text/plain": [
       "<Figure size 432x288 with 1 Axes>"
      ]
     },
     "metadata": {},
     "output_type": "display_data"
    }
   ],
   "source": [
    "plt.scatter(data['X'][:,0],data['X'][:,1],s=30,edgecolors='b', facecolors=None, linewidth=1)\n",
    "\n",
    "plt.gca().set_aspect('equal')\n",
    "plt.quiver(scaler.mean_[0], scaler.mean_[1], U[0,0], U[0,1], scale=S[1], color='r')\n",
    "plt.quiver(scaler.mean_[0], scaler.mean_[1], U[1,0], U[1,1], scale=S[0], color='r')"
   ]
  }
 ],
 "metadata": {
  "kernelspec": {
   "display_name": "Python 2",
   "language": "python",
   "name": "python2"
  },
  "language_info": {
   "codemirror_mode": {
    "name": "ipython",
    "version": 2
   },
   "file_extension": ".py",
   "mimetype": "text/x-python",
   "name": "python",
   "nbconvert_exporter": "python",
   "pygments_lexer": "ipython2",
   "version": "2.7.12"
  }
 },
 "nbformat": 4,
 "nbformat_minor": 2
}
